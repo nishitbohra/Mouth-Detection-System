{
 "cells": [
  {
   "cell_type": "code",
   "execution_count": null,
   "id": "05ba3c46",
   "metadata": {},
   "outputs": [
    {
     "name": "stdout",
     "output_type": "stream",
     "text": [
      "Mouth is closed\n",
      "Mouth is closed\n",
      "Mouth is closed\n",
      "Mouth is closed\n"
     ]
    }
   ],
   "source": [
    "# Library Installed\n",
    "import cv2\n",
    "# Load the Input Image\n",
    "img = cv2.imread(\"img.jpg\")\n",
    "img = cv2.resize(img,(640,400))\n",
    "\n",
    "# Convert the image to grayscale\n",
    "gray = cv2.cvtColor(img, cv2.COLOR_BGR2GRAY)\n",
    "\n",
    "# Load the Haar cascade for mouth detection\n",
    "mouth_cascade = cv2.CascadeClassifier(\"haarcascade_mouth.xml\")\n",
    "\n",
    "# Detect the mouth in the image\n",
    "mouths = mouth_cascade.detectMultiScale(gray, scaleFactor=1.3, minNeighbors=5)\n",
    "\n",
    "# Loop through each mouth and detect if it's open or closed\n",
    "for (x, y, w, h) in mouths:\n",
    "    # Draw a rectangle around the mouth\n",
    "    cv2.rectangle(img, (x, y), (x + w, y + h), (0, 255, 0), 2)\n",
    "    \n",
    "    # Calculate the height and width of the mouth\n",
    "    mouth_height = h\n",
    "    mouth_width = w\n",
    "    \n",
    "    # Determine if the mouth is open or closed\n",
    "    if mouth_height > mouth_width:\n",
    "        print(\"Mouth is open\")\n",
    "    else:\n",
    "        print(\"Mouth is closed\")\n",
    "\n",
    "# Display the output image\n",
    "cv2.imshow(\"Output\", img)\n",
    "cv2.waitKey(0)\n",
    "cv2.destroyAllWindows()\n"
   ]
  }
 ],
 "metadata": {
  "kernelspec": {
   "display_name": "Python 3 (ipykernel)",
   "language": "python",
   "name": "python3"
  },
  "language_info": {
   "codemirror_mode": {
    "name": "ipython",
    "version": 3
   },
   "file_extension": ".py",
   "mimetype": "text/x-python",
   "name": "python",
   "nbconvert_exporter": "python",
   "pygments_lexer": "ipython3",
   "version": "3.9.13"
  }
 },
 "nbformat": 4,
 "nbformat_minor": 5
}
